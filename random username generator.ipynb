{
 "cells": [
  {
   "cell_type": "code",
   "execution_count": 1,
   "id": "322f64dc-4d67-473d-84de-1539157db038",
   "metadata": {},
   "outputs": [],
   "source": [
    "import random"
   ]
  },
  {
   "cell_type": "code",
   "execution_count": 3,
   "id": "ca2f2b22-7282-42ab-a691-c71aa7065067",
   "metadata": {},
   "outputs": [],
   "source": [
    "import string"
   ]
  },
  {
   "cell_type": "code",
   "execution_count": 7,
   "id": "c5af52fc-7123-4888-b11c-4f59eb743cdc",
   "metadata": {},
   "outputs": [],
   "source": [
    "adjectives=[\"happy\",\"abundant\", \"bold\", \"calm\", \"daring\", \"elegant\", \"fragile\", \"graceful\", \"humble\", \n",
    "    \"intelligent\", \"jovial\", \"keen\", \"luminous\", \"majestic\", \"noble\", \"optimistic\", \n",
    "    \"powerful\", \"quiet\", \"radiant\", \"serene\", \"tenacious\", \"unique\", \"vibrant\", \"witty\", \n",
    "    \"zealous\", \"adventurous\", \"blissful\", \"courageous\", \"delightful\", \"energetic\", \n",
    "    \"fearless\", \"generous\", \"harmonious\", \"imaginative\", \"joyful\", \"kindhearted\", \n",
    "    \"loyal\", \"magnificent\", \"nurturing\", \"observant\", \"peaceful\", \"quirky\", \"resilient\", \n",
    "    \"sincere\", \"thoughtful\", \"uplifting\", \"versatile\", \"wholesome\", \"youthful\", \"zesty\", \n",
    "    \"ambitious\"\n",
    "]\n",
    "nouns= [\n",
    "    \"adventure\", \"bridge\", \"cloud\", \"dream\", \"energy\", \"forest\", \"garden\", \"harmony\", \n",
    "    \"idea\", \"journey\", \"knowledge\", \"light\", \"moment\", \"nature\", \"ocean\", \"path\", \n",
    "    \"quality\", \"river\", \"soul\", \"treasure\", \"universe\", \"vision\", \"wisdom\", \"zeal\", \n",
    "    \"ambition\", \"bliss\", \"courage\", \"delight\", \"enthusiasm\", \"freedom\", \"grace\", \"hope\", \n",
    "    \"imagination\", \"joy\", \"kindness\", \"love\", \"magic\", \"novelty\", \"opportunity\", \n",
    "    \"peace\", \"quest\", \"resilience\", \"serenity\", \"thought\", \"unity\", \"victory\", \n",
    "    \"wonder\", \"yearning\", \"zenith\", \"aspiration\", \"brilliance\"\n",
    "]\n"
   ]
  },
  {
   "cell_type": "code",
   "execution_count": 9,
   "id": "ff332dcc-f565-4084-96b4-1a82e1aa1f05",
   "metadata": {},
   "outputs": [],
   "source": [
    "# user name generator function\n",
    "\n",
    "def gen_username(include_num=False,include_schar=False):\n",
    "    adjective=random.choice(adjectives)\n",
    "    noun=random.choice(nouns)\n",
    "    username=f\"{adjective}{noun}\"\n",
    "\n",
    "    if include_num:\n",
    "        username+=str(random.randint(0,99))\n",
    "    if include_schar:\n",
    "        username += random.choice(string.punctuation)\n",
    "    return username\n",
    "    "
   ]
  },
  {
   "cell_type": "code",
   "execution_count": 11,
   "id": "7f1a90a5-d180-480b-bc66-4ae9afde16bb",
   "metadata": {},
   "outputs": [],
   "source": [
    "#save username to a file\n",
    "\n",
    "def username_file(usernames,filename='usernames.txt'):\n",
    "    with open(filename,'w') as file:\n",
    "        for username in usernames:\n",
    "            file.write(username+'\\n')\n",
    "            "
   ]
  },
  {
   "cell_type": "code",
   "execution_count": 34,
   "id": "a413c1d0-12b5-41c9-9459-515a6d8c09e6",
   "metadata": {},
   "outputs": [],
   "source": [
    "def get_user_preference():\n",
    "    include_num=input('Include numbers in the username? (yes/no): ').strip().lower()=='yes'or'y'or'YES' or \"Y\"\n",
    "    include_schar=input('include special characters? (yes/no): ').strip().lower()=='yes' or 'y'  or 'YES' or \"Y\"\n",
    "    num_usernames=int(input('How many usernames do you want to generate? '))\n",
    "    return include_num,include_schar,num_usernames"
   ]
  },
  {
   "cell_type": "code",
   "execution_count": 36,
   "id": "bf0bf897-92e8-4aba-a1b9-c2095275fa94",
   "metadata": {},
   "outputs": [
    {
     "name": "stdout",
     "output_type": "stream",
     "text": [
      "Welcome to the Random Username Generator!\n"
     ]
    },
    {
     "name": "stdin",
     "output_type": "stream",
     "text": [
      "Include numbers in the username? (yes/no):  Y\n",
      "include special characters? (yes/no):  Y\n",
      "How many usernames do you want to generate?  10\n"
     ]
    },
    {
     "name": "stdout",
     "output_type": "stream",
     "text": [
      "\n",
      "Generated usernames: \n",
      "luminousbliss6,\n",
      "powerfulgrace72=\n",
      "magnificentkindness12<\n",
      "joyfuldream40~\n",
      "kindheartedidea45<\n",
      "zealousdelight52>\n",
      "quietresilience63=\n",
      "nurturingyearning27.\n",
      "adventurousjoy2^\n",
      "fearlesscourage53?\n",
      "\n",
      "Usernames saved to 'usernames.txt'. Thank you for using the Generator!'\n"
     ]
    }
   ],
   "source": [
    "#main program\n",
    "\n",
    "\n",
    "def main():\n",
    "    print(\"Welcome to the Random Username Generator!\")\n",
    "    include_num,include_schar,num_usernames=get_user_preference()\n",
    "    usernames=[gen_username(include_num,include_schar) for _ in range(num_usernames)]\n",
    "\n",
    "    print(\"\\nGenerated usernames: \")\n",
    "    for i in usernames:\n",
    "        print(i)\n",
    "    username_file(usernames)\n",
    "    print(f\"\\nUsernames saved to 'usernames.txt'. Thank you for using the Generator!'\")\n",
    "\n",
    "\n",
    "if __name__==\"__main__\":\n",
    "    main()"
   ]
  },
  {
   "cell_type": "code",
   "execution_count": null,
   "id": "12335c10-5efc-40f1-b1a1-9d26e9158f3c",
   "metadata": {},
   "outputs": [],
   "source": []
  },
  {
   "cell_type": "code",
   "execution_count": null,
   "id": "886f2f23-2a7c-4336-9e23-8a0c06c33b71",
   "metadata": {},
   "outputs": [],
   "source": []
  },
  {
   "cell_type": "code",
   "execution_count": null,
   "id": "994a50d8-26e7-4566-a50d-72bbab9e9542",
   "metadata": {},
   "outputs": [],
   "source": []
  },
  {
   "cell_type": "code",
   "execution_count": null,
   "id": "58564df2-8dbe-4973-845d-21dd80eb69c7",
   "metadata": {},
   "outputs": [],
   "source": []
  },
  {
   "cell_type": "code",
   "execution_count": null,
   "id": "62e277a0-59cc-4cf4-a003-a0c3f5d110aa",
   "metadata": {},
   "outputs": [],
   "source": []
  },
  {
   "cell_type": "code",
   "execution_count": null,
   "id": "063115f5-0570-464e-a311-86296b81e1f0",
   "metadata": {},
   "outputs": [],
   "source": []
  },
  {
   "cell_type": "code",
   "execution_count": null,
   "id": "9831e265-b19e-4afb-a568-595a1918a850",
   "metadata": {},
   "outputs": [],
   "source": []
  },
  {
   "cell_type": "code",
   "execution_count": null,
   "id": "e68de62e-6a22-4df0-92a3-ce886c0f228b",
   "metadata": {},
   "outputs": [],
   "source": []
  },
  {
   "cell_type": "code",
   "execution_count": null,
   "id": "cd8a13ed-4894-44d2-ae28-085ef29a67db",
   "metadata": {},
   "outputs": [],
   "source": []
  },
  {
   "cell_type": "code",
   "execution_count": null,
   "id": "9fbf37e1-a39c-497e-ae45-9c268e5d7466",
   "metadata": {},
   "outputs": [],
   "source": []
  },
  {
   "cell_type": "code",
   "execution_count": null,
   "id": "ba9ba57a-7513-401f-8c9c-dba1f62e92b7",
   "metadata": {},
   "outputs": [],
   "source": []
  },
  {
   "cell_type": "code",
   "execution_count": null,
   "id": "037fcea3-b5de-4871-8d17-b829eb806f2a",
   "metadata": {},
   "outputs": [],
   "source": []
  }
 ],
 "metadata": {
  "kernelspec": {
   "display_name": "Python 3 (ipykernel)",
   "language": "python",
   "name": "python3"
  },
  "language_info": {
   "codemirror_mode": {
    "name": "ipython",
    "version": 3
   },
   "file_extension": ".py",
   "mimetype": "text/x-python",
   "name": "python",
   "nbconvert_exporter": "python",
   "pygments_lexer": "ipython3",
   "version": "3.12.7"
  }
 },
 "nbformat": 4,
 "nbformat_minor": 5
}
